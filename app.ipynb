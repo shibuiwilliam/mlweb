{
 "cells": [
  {
   "cell_type": "code",
   "execution_count": 1,
   "metadata": {
    "collapsed": true
   },
   "outputs": [],
   "source": [
    "import numpy as np\n",
    "\n",
    "# add log file\n",
    "def insert_csv(data):\n",
    "    import csv\n",
    "    import uuid\n",
    "    tuid = str(uuid.uuid1())\n",
    "    with open(\"./logs/\"+tuid+\".csv\", \"a\") as f:\n",
    "        writer = csv.writer(f, lineterminator='\\n')\n",
    "        writer.writerow([\"sepalLength\",\"sepalWidth\",\"petalLength\",\"petalWidth\"])\n",
    "        writer.writerow(data)\n",
    "    return tuid\n",
    "\n",
    "# predict\n",
    "def predictIris(params):\n",
    "    from sklearn.externals import joblib\n",
    "    # load the model\n",
    "    forest = joblib.load('./rfcParam.pkl') \n",
    "    # predict\n",
    "    params = params.reshape(1,-1)\n",
    "    pred = forest.predict(params)\n",
    "    return pred\n",
    "\n",
    "# change iris id to iris name\n",
    "def getIrisName(irisId):\n",
    "    if irisId == 0: return \"Iris Setosa\" \n",
    "    elif irisId == 1: return \"Iris Versicolour\" \n",
    "    elif irisId == 2: return \"Iris Virginica\"\n",
    "    else: return \"Error\"\n",
    "\n"
   ]
  },
  {
   "cell_type": "code",
   "execution_count": null,
   "metadata": {
    "collapsed": true
   },
   "outputs": [],
   "source": [
    "from flask import Flask, render_template, request, flash\n",
    "from wtforms import Form, FloatField, SubmitField, validators, ValidationError\n",
    "\n",
    "# App config.\n",
    "DEBUG = True\n",
    "app = Flask(__name__)\n",
    "app.config.from_object(__name__)\n",
    "app.config['SECRET_KEY'] = 'fda0e618-685c-11e7-bb40-fa163eb65161'\n",
    "\n",
    "class IrisForm(Form):\n",
    "    SepalLength = FloatField(\"Sepal Length in cm\",\n",
    "                     [validators.InputRequired(\"all parameters are required!\"),\n",
    "                     validators.NumberRange(min=0, max=10)])\n",
    "    SepalWidth = FloatField(\"Sepal Width in cm\",\n",
    "                     [validators.InputRequired(\"all parameters are required!\"),\n",
    "                     validators.NumberRange(min=0, max=10)])\n",
    "    PetalLength = FloatField(\"Petal Length in cm\",\n",
    "                     [validators.InputRequired(\"all parameters are required!\"),\n",
    "                     validators.NumberRange(min=0, max=10)])\n",
    "    PetalWidth = FloatField(\"Petal Width in cm\",\n",
    "                     [validators.InputRequired(\"all parameters are required!\"),\n",
    "                     validators.NumberRange(min=0, max=10)])\n",
    "    submit = SubmitField(\"Try\")\n",
    "\n",
    "@app.route('/irisPred', methods = ['GET', 'POST'])\n",
    "def irisPred():\n",
    "    form = IrisForm(request.form)\n",
    "    if request.method == 'POST':\n",
    "        if form.validate() == False:\n",
    "            flash(\"You need all parameters\")\n",
    "            return render_template('irisPred.html', form = form)\n",
    "        else:            \n",
    "            SepalLength = float(request.form[\"SepalLength\"])            \n",
    "            SepalWidth = float(request.form[\"SepalWidth\"])            \n",
    "            PetalLength = float(request.form[\"PetalLength\"])            \n",
    "            PetalWidth = float(request.form[\"PetalWidth\"])\n",
    "            params = np.array([SepalLength, SepalWidth, PetalLength, PetalWidth])\n",
    "            print(params)\n",
    "            insert_csv(params)\n",
    "            pred = predictIris(params)\n",
    "            irisName = getIrisName(pred)\n",
    "            \n",
    "            return render_template('success.html', irisName=irisName)\n",
    "    elif request.method == 'GET':\n",
    "        return render_template('irisPred.html', form = form)\n",
    "\n",
    "if __name__ == \"__main__\":\n",
    "    app.debug = True\n",
    "    app.run(host='0.0.0.0')\n",
    "    \n",
    "    \n",
    "    "
   ]
  },
  {
   "cell_type": "code",
   "execution_count": null,
   "metadata": {
    "collapsed": true
   },
   "outputs": [],
   "source": []
  }
 ],
 "metadata": {
  "anaconda-cloud": {},
  "kernelspec": {
   "display_name": "Python [default]",
   "language": "python",
   "name": "python3"
  },
  "language_info": {
   "codemirror_mode": {
    "name": "ipython",
    "version": 3
   },
   "file_extension": ".py",
   "mimetype": "text/x-python",
   "name": "python",
   "nbconvert_exporter": "python",
   "pygments_lexer": "ipython3",
   "version": "3.5.2"
  }
 },
 "nbformat": 4,
 "nbformat_minor": 1
}
